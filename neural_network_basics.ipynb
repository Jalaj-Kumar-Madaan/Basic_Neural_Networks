{
  "nbformat": 4,
  "nbformat_minor": 0,
  "metadata": {
    "colab": {
      "name": "Untitled0.ipynb",
      "provenance": [],
      "authorship_tag": "ABX9TyMMdVeP+os4348X2wrQ4RyP",
      "include_colab_link": true
    },
    "kernelspec": {
      "name": "python3",
      "display_name": "Python 3"
    },
    "language_info": {
      "name": "python"
    }
  },
  "cells": [
    {
      "cell_type": "markdown",
      "metadata": {
        "id": "view-in-github",
        "colab_type": "text"
      },
      "source": [
        "<a href=\"https://colab.research.google.com/github/Jalaj-Kumar-Madaan/Basic_Neural_Networks/blob/main/neural_network_basics.ipynb\" target=\"_parent\"><img src=\"https://colab.research.google.com/assets/colab-badge.svg\" alt=\"Open In Colab\"/></a>"
      ]
    },
    {
      "cell_type": "code",
      "metadata": {
        "id": "vTMU972gkgG5"
      },
      "source": [
        "import tensorflow as tf\n",
        "from tensorflow.keras import datasets, layers, models\n",
        "import matplotlib.pyplot as plt\n",
        "import numpy as np\n",
        "import pandas as pd\n"
      ],
      "execution_count": 81,
      "outputs": []
    },
    {
      "cell_type": "code",
      "metadata": {
        "colab": {
          "base_uri": "https://localhost:8080/"
        },
        "id": "c_ERQVZ9kzqM",
        "outputId": "cd150596-7504-48cc-a8b3-0c2215ab6cdd"
      },
      "source": [
        "(X_train, y_train), (X_test,y_test) = datasets.cifar10.load_data()\n",
        "X_train.shape"
      ],
      "execution_count": 82,
      "outputs": [
        {
          "output_type": "execute_result",
          "data": {
            "text/plain": [
              "(50000, 32, 32, 3)"
            ]
          },
          "metadata": {
            "tags": []
          },
          "execution_count": 82
        }
      ]
    },
    {
      "cell_type": "code",
      "metadata": {
        "colab": {
          "base_uri": "https://localhost:8080/"
        },
        "id": "BYHk_FFqk01n",
        "outputId": "20fbff60-f846-4879-be13-887c1e8c61c8"
      },
      "source": [
        "X_test.shape"
      ],
      "execution_count": 83,
      "outputs": [
        {
          "output_type": "execute_result",
          "data": {
            "text/plain": [
              "(10000, 32, 32, 3)"
            ]
          },
          "metadata": {
            "tags": []
          },
          "execution_count": 83
        }
      ]
    },
    {
      "cell_type": "code",
      "metadata": {
        "colab": {
          "base_uri": "https://localhost:8080/"
        },
        "id": "3hSerBQEk1Sb",
        "outputId": "bfcefb9f-588b-42dd-f4dc-a87d19945186"
      },
      "source": [
        "y_train.shape"
      ],
      "execution_count": 84,
      "outputs": [
        {
          "output_type": "execute_result",
          "data": {
            "text/plain": [
              "(50000, 1)"
            ]
          },
          "metadata": {
            "tags": []
          },
          "execution_count": 84
        }
      ]
    },
    {
      "cell_type": "code",
      "metadata": {
        "colab": {
          "base_uri": "https://localhost:8080/"
        },
        "id": "eObgAg9-k95P",
        "outputId": "ad88f404-8907-44a9-bd7d-5988d61515c8"
      },
      "source": [
        "y_train = y_train.reshape(-1,)\n",
        "y_train[:5]"
      ],
      "execution_count": 85,
      "outputs": [
        {
          "output_type": "execute_result",
          "data": {
            "text/plain": [
              "array([6, 9, 9, 4, 1], dtype=uint8)"
            ]
          },
          "metadata": {
            "tags": []
          },
          "execution_count": 85
        }
      ]
    },
    {
      "cell_type": "code",
      "metadata": {
        "id": "AYFviF3alClG"
      },
      "source": [
        "y_test = y_test.reshape(-1,)"
      ],
      "execution_count": 86,
      "outputs": []
    },
    {
      "cell_type": "code",
      "metadata": {
        "id": "cRy4dBHKlGI7"
      },
      "source": [
        "classes = [\"airplane\",\"automobile\",\"bird\",\"cat\",\"deer\",\"dog\",\"frog\",\"horse\",\"ship\",\"truck\"]"
      ],
      "execution_count": 87,
      "outputs": []
    },
    {
      "cell_type": "code",
      "metadata": {
        "id": "4emNZNrElJ8Y"
      },
      "source": [
        "X_train = X_train / 255.0\n",
        "X_test = X_test / 255.0"
      ],
      "execution_count": 88,
      "outputs": []
    },
    {
      "cell_type": "markdown",
      "metadata": {
        "id": "DknHSw1iekXx"
      },
      "source": [
        "**Net A Class**"
      ]
    },
    {
      "cell_type": "code",
      "metadata": {
        "id": "1qfWQHG580AA"
      },
      "source": [
        "class NetA:\n",
        "\n",
        "  def __init__(self , X_train , y_train, X_test, y_test , num_epochs , learn_rate ):\n",
        "    self.X_train = X_train\n",
        "    self.y_train = y_train\n",
        "    self.X_test = X_test\n",
        "    self.y_test = y_test\n",
        "    self.num_epochs = num_epochs\n",
        "    self.learn_rate = learn_rate\n",
        "\n",
        "  def train(self):\n",
        "    ann = models.Sequential([\n",
        "        layers.Flatten(input_shape=(32,32,3)),\n",
        "        layers.Dense(10, activation='softmax')    \n",
        "    ])\n",
        "\n",
        "    tf.keras.optimizers.SGD(\n",
        "     learning_rate= self.learn_rate, name='SGD')\n",
        "\n",
        "    ann.compile(optimizer='SGD',\n",
        "              loss='sparse_categorical_crossentropy',\n",
        "              metrics=['accuracy'])\n",
        "\n",
        "    history = ann.fit(X_train, y_train, epochs=self.num_epochs,validation_split=.1, verbose=True)\n",
        "    return history\n",
        "\n",
        "  def accuracy():\n",
        "    train_loss, train_acc = ann.evaluate(X_train, y_train, verbose=0)\n",
        "    test_loss, test_acc = ann.evaluate(X_test, y_test, verbose=0)\n",
        "    return (train_acc, test_acc)\n",
        "\n",
        "\n",
        "\n",
        "\n",
        "  "
      ],
      "execution_count": 90,
      "outputs": []
    },
    {
      "cell_type": "code",
      "metadata": {
        "colab": {
          "base_uri": "https://localhost:8080/"
        },
        "id": "AqXQd5trMZkj",
        "outputId": "8199339a-c9b9-4533-f382-826b669fa38a"
      },
      "source": [
        "NetA_history = NetA(X_train , y_train, X_test, y_test , 50 , 0.02).train()\n",
        "\n"
      ],
      "execution_count": 92,
      "outputs": [
        {
          "output_type": "stream",
          "text": [
            "Epoch 1/50\n",
            "1407/1407 [==============================] - 4s 2ms/step - loss: 1.9511 - accuracy: 0.3048 - val_loss: 2.0148 - val_accuracy: 0.2858\n",
            "Epoch 2/50\n",
            "1407/1407 [==============================] - 3s 2ms/step - loss: 1.8483 - accuracy: 0.3511 - val_loss: 2.4849 - val_accuracy: 0.2108\n",
            "Epoch 3/50\n",
            "1407/1407 [==============================] - 3s 2ms/step - loss: 1.8158 - accuracy: 0.3604 - val_loss: 2.0201 - val_accuracy: 0.2802\n",
            "Epoch 4/50\n",
            "1407/1407 [==============================] - 3s 2ms/step - loss: 1.7972 - accuracy: 0.3722 - val_loss: 1.7844 - val_accuracy: 0.3782\n",
            "Epoch 5/50\n",
            "1407/1407 [==============================] - 3s 2ms/step - loss: 1.7823 - accuracy: 0.3788 - val_loss: 1.8712 - val_accuracy: 0.3452\n",
            "Epoch 6/50\n",
            "1407/1407 [==============================] - 3s 2ms/step - loss: 1.7738 - accuracy: 0.3850 - val_loss: 1.9689 - val_accuracy: 0.3224\n",
            "Epoch 7/50\n",
            "1407/1407 [==============================] - 3s 2ms/step - loss: 1.7662 - accuracy: 0.3844 - val_loss: 2.0842 - val_accuracy: 0.2876\n",
            "Epoch 8/50\n",
            "1407/1407 [==============================] - 3s 2ms/step - loss: 1.7595 - accuracy: 0.3908 - val_loss: 1.8358 - val_accuracy: 0.3590\n",
            "Epoch 9/50\n",
            "1407/1407 [==============================] - 3s 2ms/step - loss: 1.7525 - accuracy: 0.3898 - val_loss: 1.8434 - val_accuracy: 0.3688\n",
            "Epoch 10/50\n",
            "1407/1407 [==============================] - 3s 2ms/step - loss: 1.7501 - accuracy: 0.3913 - val_loss: 1.8405 - val_accuracy: 0.3702\n",
            "Epoch 11/50\n",
            "1407/1407 [==============================] - 3s 2ms/step - loss: 1.7420 - accuracy: 0.3956 - val_loss: 1.8879 - val_accuracy: 0.3496\n",
            "Epoch 12/50\n",
            "1407/1407 [==============================] - 3s 2ms/step - loss: 1.7373 - accuracy: 0.3968 - val_loss: 1.9636 - val_accuracy: 0.3416\n",
            "Epoch 13/50\n",
            "1407/1407 [==============================] - 3s 2ms/step - loss: 1.7335 - accuracy: 0.3986 - val_loss: 1.9088 - val_accuracy: 0.3374\n",
            "Epoch 14/50\n",
            "1407/1407 [==============================] - 3s 2ms/step - loss: 1.7282 - accuracy: 0.4023 - val_loss: 2.0160 - val_accuracy: 0.3152\n",
            "Epoch 15/50\n",
            "1407/1407 [==============================] - 3s 2ms/step - loss: 1.7270 - accuracy: 0.4038 - val_loss: 1.9643 - val_accuracy: 0.3432\n",
            "Epoch 16/50\n",
            "1407/1407 [==============================] - 3s 2ms/step - loss: 1.7253 - accuracy: 0.4028 - val_loss: 1.8801 - val_accuracy: 0.3392\n",
            "Epoch 17/50\n",
            "1407/1407 [==============================] - 3s 2ms/step - loss: 1.7220 - accuracy: 0.4063 - val_loss: 2.1189 - val_accuracy: 0.2916\n",
            "Epoch 18/50\n",
            "1407/1407 [==============================] - 3s 2ms/step - loss: 1.7217 - accuracy: 0.4049 - val_loss: 1.8833 - val_accuracy: 0.3486\n",
            "Epoch 19/50\n",
            "1407/1407 [==============================] - 3s 2ms/step - loss: 1.7170 - accuracy: 0.4070 - val_loss: 1.8060 - val_accuracy: 0.3818\n",
            "Epoch 20/50\n",
            "1407/1407 [==============================] - 3s 2ms/step - loss: 1.7145 - accuracy: 0.4075 - val_loss: 1.8964 - val_accuracy: 0.3472\n",
            "Epoch 21/50\n",
            "1407/1407 [==============================] - 3s 2ms/step - loss: 1.7144 - accuracy: 0.4089 - val_loss: 1.8918 - val_accuracy: 0.3474\n",
            "Epoch 22/50\n",
            "1407/1407 [==============================] - 3s 2ms/step - loss: 1.7093 - accuracy: 0.4091 - val_loss: 2.0076 - val_accuracy: 0.3086\n",
            "Epoch 23/50\n",
            "1407/1407 [==============================] - 3s 2ms/step - loss: 1.7047 - accuracy: 0.4115 - val_loss: 1.9988 - val_accuracy: 0.3148\n",
            "Epoch 24/50\n",
            "1407/1407 [==============================] - 3s 2ms/step - loss: 1.7076 - accuracy: 0.4086 - val_loss: 1.8693 - val_accuracy: 0.3554\n",
            "Epoch 25/50\n",
            "1407/1407 [==============================] - 3s 2ms/step - loss: 1.7071 - accuracy: 0.4102 - val_loss: 1.9111 - val_accuracy: 0.3384\n",
            "Epoch 26/50\n",
            "1407/1407 [==============================] - 3s 2ms/step - loss: 1.7039 - accuracy: 0.4138 - val_loss: 2.0812 - val_accuracy: 0.3042\n",
            "Epoch 27/50\n",
            "1407/1407 [==============================] - 3s 2ms/step - loss: 1.7030 - accuracy: 0.4125 - val_loss: 2.1147 - val_accuracy: 0.3002\n",
            "Epoch 28/50\n",
            "1407/1407 [==============================] - 3s 2ms/step - loss: 1.7002 - accuracy: 0.4158 - val_loss: 1.8465 - val_accuracy: 0.3734\n",
            "Epoch 29/50\n",
            "1407/1407 [==============================] - 3s 2ms/step - loss: 1.6966 - accuracy: 0.4155 - val_loss: 1.8818 - val_accuracy: 0.3530\n",
            "Epoch 30/50\n",
            "1407/1407 [==============================] - 3s 2ms/step - loss: 1.6962 - accuracy: 0.4145 - val_loss: 1.8785 - val_accuracy: 0.3416\n",
            "Epoch 31/50\n",
            "1407/1407 [==============================] - 3s 2ms/step - loss: 1.6968 - accuracy: 0.4137 - val_loss: 1.8404 - val_accuracy: 0.3632\n",
            "Epoch 32/50\n",
            "1407/1407 [==============================] - 3s 2ms/step - loss: 1.6966 - accuracy: 0.4152 - val_loss: 1.9455 - val_accuracy: 0.3180\n",
            "Epoch 33/50\n",
            "1407/1407 [==============================] - 3s 2ms/step - loss: 1.6905 - accuracy: 0.4200 - val_loss: 1.9414 - val_accuracy: 0.3326\n",
            "Epoch 34/50\n",
            "1407/1407 [==============================] - 3s 2ms/step - loss: 1.6920 - accuracy: 0.4182 - val_loss: 1.8908 - val_accuracy: 0.3394\n",
            "Epoch 35/50\n",
            "1407/1407 [==============================] - 4s 3ms/step - loss: 1.6928 - accuracy: 0.4180 - val_loss: 1.8716 - val_accuracy: 0.3594\n",
            "Epoch 36/50\n",
            "1407/1407 [==============================] - 4s 3ms/step - loss: 1.6899 - accuracy: 0.4185 - val_loss: 1.9322 - val_accuracy: 0.3354\n",
            "Epoch 37/50\n",
            "1407/1407 [==============================] - 4s 3ms/step - loss: 1.6909 - accuracy: 0.4181 - val_loss: 1.9287 - val_accuracy: 0.3270\n",
            "Epoch 38/50\n",
            "1407/1407 [==============================] - 3s 2ms/step - loss: 1.6870 - accuracy: 0.4168 - val_loss: 1.8821 - val_accuracy: 0.3472\n",
            "Epoch 39/50\n",
            "1407/1407 [==============================] - 3s 2ms/step - loss: 1.6873 - accuracy: 0.4177 - val_loss: 1.9611 - val_accuracy: 0.3444\n",
            "Epoch 40/50\n",
            "1407/1407 [==============================] - 3s 2ms/step - loss: 1.6868 - accuracy: 0.4184 - val_loss: 2.0429 - val_accuracy: 0.3306\n",
            "Epoch 41/50\n",
            "1407/1407 [==============================] - 3s 2ms/step - loss: 1.6874 - accuracy: 0.4175 - val_loss: 2.1423 - val_accuracy: 0.3060\n",
            "Epoch 42/50\n",
            "1407/1407 [==============================] - 3s 2ms/step - loss: 1.6851 - accuracy: 0.4194 - val_loss: 1.9296 - val_accuracy: 0.3288\n",
            "Epoch 43/50\n",
            "1407/1407 [==============================] - 3s 2ms/step - loss: 1.6834 - accuracy: 0.4215 - val_loss: 1.8830 - val_accuracy: 0.3628\n",
            "Epoch 44/50\n",
            "1407/1407 [==============================] - 3s 2ms/step - loss: 1.6842 - accuracy: 0.4197 - val_loss: 1.7938 - val_accuracy: 0.3900\n",
            "Epoch 45/50\n",
            "1407/1407 [==============================] - 3s 2ms/step - loss: 1.6806 - accuracy: 0.4205 - val_loss: 2.1974 - val_accuracy: 0.2682\n",
            "Epoch 46/50\n",
            "1407/1407 [==============================] - 3s 2ms/step - loss: 1.6829 - accuracy: 0.4196 - val_loss: 1.8795 - val_accuracy: 0.3364\n",
            "Epoch 47/50\n",
            "1407/1407 [==============================] - 3s 2ms/step - loss: 1.6812 - accuracy: 0.4220 - val_loss: 1.9951 - val_accuracy: 0.3376\n",
            "Epoch 48/50\n",
            "1407/1407 [==============================] - 4s 3ms/step - loss: 1.6806 - accuracy: 0.4227 - val_loss: 1.8408 - val_accuracy: 0.3616\n",
            "Epoch 49/50\n",
            "1407/1407 [==============================] - 3s 2ms/step - loss: 1.6787 - accuracy: 0.4217 - val_loss: 1.8917 - val_accuracy: 0.3330\n",
            "Epoch 50/50\n",
            "1407/1407 [==============================] - 3s 2ms/step - loss: 1.6752 - accuracy: 0.4251 - val_loss: 2.1111 - val_accuracy: 0.3084\n"
          ],
          "name": "stdout"
        }
      ]
    },
    {
      "cell_type": "code",
      "metadata": {
        "colab": {
          "base_uri": "https://localhost:8080/"
        },
        "id": "GOMSYuG5PXAE",
        "outputId": "93cc69d1-b616-4b27-e058-35b62a63eb4c"
      },
      "source": [
        "NetA.accuracy()"
      ],
      "execution_count": 93,
      "outputs": [
        {
          "output_type": "execute_result",
          "data": {
            "text/plain": [
              "(0.38947999477386475, 0.3659999966621399)"
            ]
          },
          "metadata": {
            "tags": []
          },
          "execution_count": 93
        }
      ]
    },
    {
      "cell_type": "markdown",
      "metadata": {
        "id": "_kO5OLe5orNz"
      },
      "source": [
        "**Net B Class**"
      ]
    },
    {
      "cell_type": "code",
      "metadata": {
        "id": "ItCvG-jCQxfD"
      },
      "source": [
        "class NetB:\n",
        "\n",
        "  def __init__(self , X_train , y_train, X_test, y_test , num_epochs , learn_rate ):\n",
        "    self.X_train = X_train\n",
        "    self.y_train = y_train\n",
        "    self.X_test = X_test\n",
        "    self.y_test = y_test\n",
        "    self.num_epochs = num_epochs\n",
        "    self.learn_rate = learn_rate\n",
        "\n",
        "  def train(self):\n",
        "    ann = models.Sequential([\n",
        "        layers.Flatten(input_shape=(32,32,3)),\n",
        "        layers.Dense(3000, activation='relu'),\n",
        "        layers.Dense(10, activation='softmax')    \n",
        "    ])\n",
        "\n",
        "    tf.keras.optimizers.SGD(\n",
        "     learning_rate= self.learn_rate, name='SGD')\n",
        "\n",
        "    ann.compile(optimizer='SGD',\n",
        "              loss='sparse_categorical_crossentropy',\n",
        "              metrics=['accuracy'])\n",
        "\n",
        "    history = ann.fit(X_train, y_train, epochs=self.num_epochs,validation_split=.1, verbose=True)\n",
        "    return history\n",
        "\n",
        "  def accuracy():\n",
        "    train_loss, train_acc = ann.evaluate(X_train, y_train, verbose=0)\n",
        "    test_loss, test_acc = ann.evaluate(X_test, y_test, verbose=0)\n",
        "    return (train_acc, test_acc)\n",
        "\n",
        "\n",
        "\n",
        "  "
      ],
      "execution_count": 53,
      "outputs": []
    },
    {
      "cell_type": "code",
      "metadata": {
        "colab": {
          "base_uri": "https://localhost:8080/"
        },
        "id": "SMWudYGRR4kP",
        "outputId": "6a833873-58d9-435c-ae75-65fea1eae052"
      },
      "source": [
        "NetB_history = NetB(X_train , y_train, X_test, y_test , 4 , 0.01).train()"
      ],
      "execution_count": 64,
      "outputs": [
        {
          "output_type": "stream",
          "text": [
            "Epoch 1/4\n",
            "1407/1407 [==============================] - 67s 47ms/step - loss: 1.8448 - accuracy: 0.3432 - val_loss: 1.7070 - val_accuracy: 0.4026\n",
            "Epoch 2/4\n",
            "1407/1407 [==============================] - 66s 47ms/step - loss: 1.6629 - accuracy: 0.4164 - val_loss: 1.6804 - val_accuracy: 0.4068\n",
            "Epoch 3/4\n",
            "1407/1407 [==============================] - 66s 47ms/step - loss: 1.5857 - accuracy: 0.4451 - val_loss: 1.7001 - val_accuracy: 0.3894\n",
            "Epoch 4/4\n",
            "1407/1407 [==============================] - 62s 44ms/step - loss: 1.5336 - accuracy: 0.4637 - val_loss: 1.6466 - val_accuracy: 0.4224\n"
          ],
          "name": "stdout"
        }
      ]
    },
    {
      "cell_type": "markdown",
      "metadata": {
        "id": "fy9rRd1io3KP"
      },
      "source": [
        "**Net C Class**"
      ]
    },
    {
      "cell_type": "code",
      "metadata": {
        "id": "lhE8mV5IR45S"
      },
      "source": [
        "class NetC:\n",
        "\n",
        "  def __init__(self , X_train , y_train, X_test, y_test , num_epochs , learn_rate ):\n",
        "    self.X_train = X_train\n",
        "    self.y_train = y_train\n",
        "    self.X_test = X_test\n",
        "    self.y_test = y_test\n",
        "    self.num_epochs = num_epochs\n",
        "    self.learn_rate = learn_rate\n",
        "\n",
        "  def train(self):\n",
        "    \n",
        "    cnn = models.Sequential([\n",
        "     layers.Conv2D(filters=32, kernel_size=(5, 25), activation='relu', input_shape=(32, 32, 3)),\n",
        "     layers.MaxPooling2D((2, 2)),\n",
        "    \n",
        "     layers.Flatten(),\n",
        "     layers.Dense(10, activation='softmax')\n",
        "   ])\n",
        "\n",
        "    tf.keras.optimizers.Adam(\n",
        "     learning_rate= self.learn_rate, name='SGD')\n",
        "\n",
        "    cnn.compile(optimizer='adam',\n",
        "              loss='sparse_categorical_crossentropy',\n",
        "              metrics=['accuracy'])\n",
        "\n",
        "    history = ann.fit(X_train, y_train, epochs=self.num_epochs,validation_split=.1, verbose=True)\n",
        "    return history\n",
        "\n",
        "  def accuracy():\n",
        "    train_loss, train_acc = ann.evaluate(X_train, y_train, verbose=0)\n",
        "    test_loss, test_acc = ann.evaluate(X_test, y_test, verbose=0)\n",
        "    return (train_acc, test_acc)"
      ],
      "execution_count": 74,
      "outputs": []
    },
    {
      "cell_type": "code",
      "metadata": {
        "colab": {
          "base_uri": "https://localhost:8080/"
        },
        "id": "5ADWNIVXScPC",
        "outputId": "012d1274-cddd-4d5f-8fdf-0c30f34f0e53"
      },
      "source": [
        "NetC_history = NetC(X_train , y_train, X_test, y_test , 4 , 0.01).train()"
      ],
      "execution_count": 65,
      "outputs": [
        {
          "output_type": "stream",
          "text": [
            "Epoch 1/4\n",
            "1407/1407 [==============================] - 4s 3ms/step - loss: 1.7346 - accuracy: 0.4006 - val_loss: 1.9957 - val_accuracy: 0.3184\n",
            "Epoch 2/4\n",
            "1407/1407 [==============================] - 3s 2ms/step - loss: 1.7304 - accuracy: 0.3984 - val_loss: 2.6066 - val_accuracy: 0.2422\n",
            "Epoch 3/4\n",
            "1407/1407 [==============================] - 3s 2ms/step - loss: 1.7271 - accuracy: 0.3997 - val_loss: 1.8483 - val_accuracy: 0.3420\n",
            "Epoch 4/4\n",
            "1407/1407 [==============================] - 3s 2ms/step - loss: 1.7223 - accuracy: 0.4031 - val_loss: 1.7997 - val_accuracy: 0.3702\n"
          ],
          "name": "stdout"
        }
      ]
    },
    {
      "cell_type": "markdown",
      "metadata": {
        "id": "MJYIcmNGo8dp"
      },
      "source": [
        "**Train and Test Accuracy of Models**"
      ]
    },
    {
      "cell_type": "code",
      "metadata": {
        "colab": {
          "base_uri": "https://localhost:8080/",
          "height": 428
        },
        "id": "i0816-sMWhlC",
        "outputId": "980cc8cb-e179-4095-9e75-b8f9692bca31"
      },
      "source": [
        "plt.figure(figsize=[8,6])\n",
        "plt.plot(NetA_history.history['accuracy'],'r',linewidth=3.0)\n",
        "plt.plot(NetB_history.history['accuracy'],'g',linewidth=3.0)\n",
        "plt.plot(NetC_history.history['accuracy'],'b',linewidth=3.0)\n",
        "\n",
        "plt.legend(['Net A Accuracy', 'Net B Accuracy', 'Net C Accuracy'],fontsize=18)\n",
        "plt.xlabel('Epochs ',fontsize=16)\n",
        "plt.ylabel('Accuracy',fontsize=16)\n",
        "plt.title('Accuracy Curves',fontsize=16)"
      ],
      "execution_count": 66,
      "outputs": [
        {
          "output_type": "execute_result",
          "data": {
            "text/plain": [
              "Text(0.5, 1.0, 'Accuracy Curves')"
            ]
          },
          "metadata": {
            "tags": []
          },
          "execution_count": 66
        },
        {
          "output_type": "display_data",
          "data": {
            "image/png": "[encoded data removed]",
            "text/plain": [
              "<Figure size 576x432 with 1 Axes>"
            ]
          },
          "metadata": {
            "tags": [],
            "needs_background": "light"
          }
        }
      ]
    },
    {
      "cell_type": "code",
      "metadata": {
        "colab": {
          "base_uri": "https://localhost:8080/"
        },
        "id": "vwsL8J87YZlZ",
        "outputId": "98fa87da-c4be-43ed-d964-34f91a5343e2"
      },
      "source": [
        "NetA_train , NetA_test = NetA.accuracy()\n",
        "NetB_train , NetB_test = NetB.accuracy()\n",
        "NetC_train , NetC_test = NetC.accuracy()\n",
        "\n",
        "df = pd.DataFrame({'Train Accuracy': [float(NetC_train) , float(NetC_train), float(NetC_train)],\n",
        "        'Test Accuracy': [float(NetC_test),float(NetC_test),float(NetC_test)]} , index =['Net_A', 'Net_B' , 'Net_C'])\n",
        "\n",
        "print(df)"
      ],
      "execution_count": 80,
      "outputs": [
        {
          "output_type": "stream",
          "text": [
            "Accuracy: 0.389\n",
            "Accuracy: 0.366\n",
            "       Train Accuracy  Test Accuracy\n",
            "Net_A         0.38948          0.366\n",
            "Net_B         0.38948          0.366\n",
            "Net_C         0.38948          0.366\n"
          ],
          "name": "stdout"
        }
      ]
    }
  ]
}