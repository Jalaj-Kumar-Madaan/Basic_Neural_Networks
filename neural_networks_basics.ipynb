{
  "nbformat": 4,
  "nbformat_minor": 0,
  "metadata": {
    "colab": {
      "name": "Untitled0.ipynb",
      "provenance": [],
      "authorship_tag": "ABX9TyPtoi6PVIfJFKwSfhrhnHiL"
    },
    "kernelspec": {
      "name": "python3",
      "display_name": "Python 3"
    },
    "language_info": {
      "name": "python"
    }
  },
  "cells": [
    {
      "cell_type": "code",
      "metadata": {
        "id": "vTMU972gkgG5"
      },
      "source": [
        "import tensorflow as tf\n",
        "from tensorflow.keras import datasets, layers, models\n",
        "import matplotlib.pyplot as plt\n",
        "import numpy as np\n",
        "import pandas as pd\n"
      ],
      "execution_count": 96,
      "outputs": []
    },
    {
      "cell_type": "code",
      "metadata": {
        "colab": {
          "base_uri": "https://localhost:8080/"
        },
        "id": "c_ERQVZ9kzqM",
        "outputId": "d6800b02-9574-463c-eb18-3956eead12ef"
      },
      "source": [
        "(X_train, y_train), (X_test,y_test) = datasets.cifar10.load_data()\n",
        "X_train.shape"
      ],
      "execution_count": 97,
      "outputs": [
        {
          "output_type": "execute_result",
          "data": {
            "text/plain": [
              "(50000, 32, 32, 3)"
            ]
          },
          "metadata": {
            "tags": []
          },
          "execution_count": 97
        }
      ]
    },
    {
      "cell_type": "code",
      "metadata": {
        "colab": {
          "base_uri": "https://localhost:8080/"
        },
        "id": "BYHk_FFqk01n",
        "outputId": "b2aceb4b-d3f7-4c4a-dec7-07266d517bdd"
      },
      "source": [
        "X_test.shape"
      ],
      "execution_count": 98,
      "outputs": [
        {
          "output_type": "execute_result",
          "data": {
            "text/plain": [
              "(10000, 32, 32, 3)"
            ]
          },
          "metadata": {
            "tags": []
          },
          "execution_count": 98
        }
      ]
    },
    {
      "cell_type": "code",
      "metadata": {
        "colab": {
          "base_uri": "https://localhost:8080/"
        },
        "id": "3hSerBQEk1Sb",
        "outputId": "06e9ca76-cbc7-42f3-a97e-c299f6dbfd50"
      },
      "source": [
        "y_train.shape"
      ],
      "execution_count": 99,
      "outputs": [
        {
          "output_type": "execute_result",
          "data": {
            "text/plain": [
              "(50000, 1)"
            ]
          },
          "metadata": {
            "tags": []
          },
          "execution_count": 99
        }
      ]
    },
    {
      "cell_type": "code",
      "metadata": {
        "colab": {
          "base_uri": "https://localhost:8080/"
        },
        "id": "eObgAg9-k95P",
        "outputId": "b6732312-2652-4eaf-a5cd-d4e5f1f19e29"
      },
      "source": [
        "y_train = y_train.reshape(-1,)\n",
        "y_train[:5]"
      ],
      "execution_count": 100,
      "outputs": [
        {
          "output_type": "execute_result",
          "data": {
            "text/plain": [
              "array([6, 9, 9, 4, 1], dtype=uint8)"
            ]
          },
          "metadata": {
            "tags": []
          },
          "execution_count": 100
        }
      ]
    },
    {
      "cell_type": "code",
      "metadata": {
        "id": "AYFviF3alClG"
      },
      "source": [
        "y_test = y_test.reshape(-1,)"
      ],
      "execution_count": 101,
      "outputs": []
    },
    {
      "cell_type": "code",
      "metadata": {
        "id": "cRy4dBHKlGI7"
      },
      "source": [
        "classes = [\"airplane\",\"automobile\",\"bird\",\"cat\",\"deer\",\"dog\",\"frog\",\"horse\",\"ship\",\"truck\"]"
      ],
      "execution_count": 102,
      "outputs": []
    },
    {
      "cell_type": "code",
      "metadata": {
        "id": "4emNZNrElJ8Y"
      },
      "source": [
        "X_train = X_train / 255.0\n",
        "X_test = X_test / 255.0"
      ],
      "execution_count": 103,
      "outputs": []
    },
    {
      "cell_type": "markdown",
      "metadata": {
        "id": "DknHSw1iekXx"
      },
      "source": [
        "**Net A Class**"
      ]
    },
    {
      "cell_type": "code",
      "metadata": {
        "id": "1qfWQHG580AA"
      },
      "source": [
        "class NetA:\n",
        "\n",
        "  def __init__(self , X_train , y_train, X_test, y_test , num_epochs , learn_rate ):\n",
        "    self.X_train = X_train\n",
        "    self.y_train = y_train\n",
        "    self.X_test = X_test\n",
        "    self.y_test = y_test\n",
        "    self.num_epochs = num_epochs\n",
        "    self.learn_rate = learn_rate\n",
        "\n",
        "  def train(self):\n",
        "    ann = models.Sequential([\n",
        "        layers.Flatten(input_shape=(32,32,3)),\n",
        "        layers.Dense(10, activation='softmax')    \n",
        "    ])\n",
        "\n",
        "    tf.keras.optimizers.SGD(\n",
        "     learning_rate= self.learn_rate, name='SGD')\n",
        "\n",
        "    ann.compile(optimizer='SGD',\n",
        "              loss='sparse_categorical_crossentropy',\n",
        "              metrics=['accuracy'])\n",
        "\n",
        "    history = ann.fit(X_train, y_train, epochs=self.num_epochs,validation_split=.1, verbose=True)\n",
        "\n",
        "    train_loss, train_acc = ann.evaluate(X_train, y_train, verbose=0)\n",
        "    test_loss, test_acc = ann.evaluate(X_test, y_test, verbose=0)\n",
        "\n",
        "    return  (history , train_acc, test_acc)\n",
        "\n",
        "  \n",
        "\n",
        "\n",
        "\n",
        "\n",
        "  "
      ],
      "execution_count": 130,
      "outputs": []
    },
    {
      "cell_type": "code",
      "metadata": {
        "colab": {
          "base_uri": "https://localhost:8080/"
        },
        "id": "AqXQd5trMZkj",
        "outputId": "4c91273f-efe0-4369-b356-40e188808fcd"
      },
      "source": [
        "NetA_history, NetA_train , NetA_test = NetA(X_train , y_train, X_test, y_test , 50 , 0.02).train()\n",
        "\n"
      ],
      "execution_count": 132,
      "outputs": [
        {
          "output_type": "stream",
          "text": [
            "Epoch 1/50\n",
            "1407/1407 [==============================] - 4s 3ms/step - loss: 1.9557 - accuracy: 0.3030 - val_loss: 2.4514 - val_accuracy: 0.2026\n",
            "Epoch 2/50\n",
            "1407/1407 [==============================] - 3s 2ms/step - loss: 1.8505 - accuracy: 0.3504 - val_loss: 1.8736 - val_accuracy: 0.3422\n",
            "Epoch 3/50\n",
            "1407/1407 [==============================] - 3s 2ms/step - loss: 1.8150 - accuracy: 0.3655 - val_loss: 1.9560 - val_accuracy: 0.3160\n",
            "Epoch 4/50\n",
            "1407/1407 [==============================] - 4s 3ms/step - loss: 1.7995 - accuracy: 0.3685 - val_loss: 1.9059 - val_accuracy: 0.3188\n",
            "Epoch 5/50\n",
            "1407/1407 [==============================] - 3s 2ms/step - loss: 1.7852 - accuracy: 0.3766 - val_loss: 2.0486 - val_accuracy: 0.3066\n",
            "Epoch 6/50\n",
            "1407/1407 [==============================] - 3s 2ms/step - loss: 1.7729 - accuracy: 0.3842 - val_loss: 1.9891 - val_accuracy: 0.3118\n",
            "Epoch 7/50\n",
            "1407/1407 [==============================] - 3s 2ms/step - loss: 1.7663 - accuracy: 0.3868 - val_loss: 1.9350 - val_accuracy: 0.3172\n",
            "Epoch 8/50\n",
            "1407/1407 [==============================] - 3s 2ms/step - loss: 1.7592 - accuracy: 0.3890 - val_loss: 2.0191 - val_accuracy: 0.2976\n",
            "Epoch 9/50\n",
            "1407/1407 [==============================] - 3s 2ms/step - loss: 1.7501 - accuracy: 0.3930 - val_loss: 2.0217 - val_accuracy: 0.2960\n",
            "Epoch 10/50\n",
            "1407/1407 [==============================] - 3s 2ms/step - loss: 1.7468 - accuracy: 0.3945 - val_loss: 2.0414 - val_accuracy: 0.3062\n",
            "Epoch 11/50\n",
            "1407/1407 [==============================] - 3s 2ms/step - loss: 1.7436 - accuracy: 0.3954 - val_loss: 2.1234 - val_accuracy: 0.2976\n",
            "Epoch 12/50\n",
            "1407/1407 [==============================] - 3s 2ms/step - loss: 1.7392 - accuracy: 0.3963 - val_loss: 1.9381 - val_accuracy: 0.3362\n",
            "Epoch 13/50\n",
            "1407/1407 [==============================] - 3s 2ms/step - loss: 1.7353 - accuracy: 0.3982 - val_loss: 1.7932 - val_accuracy: 0.3816\n",
            "Epoch 14/50\n",
            "1407/1407 [==============================] - 3s 2ms/step - loss: 1.7304 - accuracy: 0.4022 - val_loss: 2.0144 - val_accuracy: 0.3132\n",
            "Epoch 15/50\n",
            "1407/1407 [==============================] - 3s 2ms/step - loss: 1.7272 - accuracy: 0.4045 - val_loss: 2.0085 - val_accuracy: 0.3040\n",
            "Epoch 16/50\n",
            "1407/1407 [==============================] - 3s 2ms/step - loss: 1.7253 - accuracy: 0.4023 - val_loss: 1.9391 - val_accuracy: 0.3366\n",
            "Epoch 17/50\n",
            "1407/1407 [==============================] - 3s 2ms/step - loss: 1.7226 - accuracy: 0.4037 - val_loss: 2.1787 - val_accuracy: 0.2966\n",
            "Epoch 18/50\n",
            "1407/1407 [==============================] - 3s 2ms/step - loss: 1.7217 - accuracy: 0.4024 - val_loss: 1.9592 - val_accuracy: 0.3326\n",
            "Epoch 19/50\n",
            "1407/1407 [==============================] - 3s 2ms/step - loss: 1.7138 - accuracy: 0.4070 - val_loss: 1.8945 - val_accuracy: 0.3470\n",
            "Epoch 20/50\n",
            "1407/1407 [==============================] - 3s 2ms/step - loss: 1.7142 - accuracy: 0.4085 - val_loss: 1.9000 - val_accuracy: 0.3346\n",
            "Epoch 21/50\n",
            "1407/1407 [==============================] - 4s 3ms/step - loss: 1.7115 - accuracy: 0.4104 - val_loss: 1.8888 - val_accuracy: 0.3524\n",
            "Epoch 22/50\n",
            "1407/1407 [==============================] - 4s 3ms/step - loss: 1.7110 - accuracy: 0.4087 - val_loss: 1.7844 - val_accuracy: 0.3814\n",
            "Epoch 23/50\n",
            "1407/1407 [==============================] - 4s 3ms/step - loss: 1.7060 - accuracy: 0.4110 - val_loss: 1.8712 - val_accuracy: 0.3356\n",
            "Epoch 24/50\n",
            "1407/1407 [==============================] - 3s 2ms/step - loss: 1.7059 - accuracy: 0.4130 - val_loss: 1.8330 - val_accuracy: 0.3734\n",
            "Epoch 25/50\n",
            "1407/1407 [==============================] - 3s 2ms/step - loss: 1.7010 - accuracy: 0.4111 - val_loss: 1.8952 - val_accuracy: 0.3434\n",
            "Epoch 26/50\n",
            "1407/1407 [==============================] - 3s 2ms/step - loss: 1.7032 - accuracy: 0.4114 - val_loss: 2.1303 - val_accuracy: 0.2634\n",
            "Epoch 27/50\n",
            "1407/1407 [==============================] - 3s 2ms/step - loss: 1.7031 - accuracy: 0.4121 - val_loss: 1.8651 - val_accuracy: 0.3474\n",
            "Epoch 28/50\n",
            "1407/1407 [==============================] - 3s 2ms/step - loss: 1.6998 - accuracy: 0.4135 - val_loss: 1.9028 - val_accuracy: 0.3436\n",
            "Epoch 29/50\n",
            "1407/1407 [==============================] - 3s 2ms/step - loss: 1.7018 - accuracy: 0.4142 - val_loss: 1.7772 - val_accuracy: 0.3914\n",
            "Epoch 30/50\n",
            "1407/1407 [==============================] - 4s 3ms/step - loss: 1.6981 - accuracy: 0.4134 - val_loss: 1.8987 - val_accuracy: 0.3408\n",
            "Epoch 31/50\n",
            "1407/1407 [==============================] - 4s 3ms/step - loss: 1.6958 - accuracy: 0.4137 - val_loss: 1.8187 - val_accuracy: 0.3630\n",
            "Epoch 32/50\n",
            "1407/1407 [==============================] - 4s 3ms/step - loss: 1.6932 - accuracy: 0.4155 - val_loss: 1.8684 - val_accuracy: 0.3618\n",
            "Epoch 33/50\n",
            "1407/1407 [==============================] - 4s 2ms/step - loss: 1.6931 - accuracy: 0.4152 - val_loss: 1.9962 - val_accuracy: 0.3162\n",
            "Epoch 34/50\n",
            "1407/1407 [==============================] - 3s 2ms/step - loss: 1.6923 - accuracy: 0.4180 - val_loss: 1.8829 - val_accuracy: 0.3464\n",
            "Epoch 35/50\n",
            "1407/1407 [==============================] - 3s 2ms/step - loss: 1.6932 - accuracy: 0.4179 - val_loss: 1.9410 - val_accuracy: 0.3452\n",
            "Epoch 36/50\n",
            "1407/1407 [==============================] - 4s 3ms/step - loss: 1.6890 - accuracy: 0.4176 - val_loss: 1.8044 - val_accuracy: 0.3826\n",
            "Epoch 37/50\n",
            "1407/1407 [==============================] - 4s 3ms/step - loss: 1.6896 - accuracy: 0.4177 - val_loss: 1.8079 - val_accuracy: 0.3740\n",
            "Epoch 38/50\n",
            "1407/1407 [==============================] - 4s 3ms/step - loss: 1.6910 - accuracy: 0.4166 - val_loss: 1.9604 - val_accuracy: 0.3480\n",
            "Epoch 39/50\n",
            "1407/1407 [==============================] - 3s 2ms/step - loss: 1.6878 - accuracy: 0.4210 - val_loss: 1.8704 - val_accuracy: 0.3712\n",
            "Epoch 40/50\n",
            "1407/1407 [==============================] - 3s 2ms/step - loss: 1.6868 - accuracy: 0.4179 - val_loss: 1.7931 - val_accuracy: 0.3936\n",
            "Epoch 41/50\n",
            "1407/1407 [==============================] - 3s 2ms/step - loss: 1.6864 - accuracy: 0.4190 - val_loss: 1.8487 - val_accuracy: 0.3604\n",
            "Epoch 42/50\n",
            "1407/1407 [==============================] - 3s 2ms/step - loss: 1.6870 - accuracy: 0.4178 - val_loss: 1.9920 - val_accuracy: 0.3272\n",
            "Epoch 43/50\n",
            "1407/1407 [==============================] - 3s 2ms/step - loss: 1.6852 - accuracy: 0.4209 - val_loss: 2.1129 - val_accuracy: 0.3012\n",
            "Epoch 44/50\n",
            "1407/1407 [==============================] - 3s 2ms/step - loss: 1.6838 - accuracy: 0.4224 - val_loss: 1.8745 - val_accuracy: 0.3600\n",
            "Epoch 45/50\n",
            "1407/1407 [==============================] - 3s 2ms/step - loss: 1.6834 - accuracy: 0.4221 - val_loss: 2.1071 - val_accuracy: 0.3042\n",
            "Epoch 46/50\n",
            "1407/1407 [==============================] - 3s 2ms/step - loss: 1.6811 - accuracy: 0.4231 - val_loss: 1.9454 - val_accuracy: 0.3290\n",
            "Epoch 47/50\n",
            "1407/1407 [==============================] - 3s 2ms/step - loss: 1.6818 - accuracy: 0.4209 - val_loss: 2.1973 - val_accuracy: 0.2654\n",
            "Epoch 48/50\n",
            "1407/1407 [==============================] - 3s 2ms/step - loss: 1.6796 - accuracy: 0.4196 - val_loss: 2.2971 - val_accuracy: 0.2588\n",
            "Epoch 49/50\n",
            "1407/1407 [==============================] - 4s 3ms/step - loss: 1.6780 - accuracy: 0.4230 - val_loss: 1.9895 - val_accuracy: 0.3292\n",
            "Epoch 50/50\n",
            "1407/1407 [==============================] - 4s 3ms/step - loss: 1.6765 - accuracy: 0.4237 - val_loss: 1.9070 - val_accuracy: 0.3496\n"
          ],
          "name": "stdout"
        }
      ]
    },
    {
      "cell_type": "markdown",
      "metadata": {
        "id": "_kO5OLe5orNz"
      },
      "source": [
        "**Net B Class**"
      ]
    },
    {
      "cell_type": "code",
      "metadata": {
        "id": "ItCvG-jCQxfD"
      },
      "source": [
        "class NetB:\n",
        "\n",
        "  def __init__(self , X_train , y_train, X_test, y_test , num_epochs , learn_rate ):\n",
        "    self.X_train = X_train\n",
        "    self.y_train = y_train\n",
        "    self.X_test = X_test\n",
        "    self.y_test = y_test\n",
        "    self.num_epochs = num_epochs\n",
        "    self.learn_rate = learn_rate\n",
        "\n",
        "  def train(self):\n",
        "    ann = models.Sequential([\n",
        "        layers.Flatten(input_shape=(32,32,3)),\n",
        "        layers.Dense(3000, activation='relu'),\n",
        "        layers.Dense(10, activation='softmax')    \n",
        "    ])\n",
        "\n",
        "    tf.keras.optimizers.SGD(\n",
        "     learning_rate= self.learn_rate, name='SGD')\n",
        "\n",
        "    ann.compile(optimizer='SGD',\n",
        "              loss='sparse_categorical_crossentropy',\n",
        "              metrics=['accuracy'])\n",
        "\n",
        "    history = ann.fit(X_train, y_train, epochs=self.num_epochs,validation_split=.1, verbose=True)\n",
        "    train_loss, train_acc = ann.evaluate(X_train, y_train, verbose=0)\n",
        "    test_loss, test_acc = ann.evaluate(X_test, y_test, verbose=0)\n",
        "\n",
        "    return  (history , train_acc, test_acc)\n",
        "\n",
        "  \n",
        "\n",
        "\n",
        "\n",
        "  "
      ],
      "execution_count": 134,
      "outputs": []
    },
    {
      "cell_type": "code",
      "metadata": {
        "colab": {
          "base_uri": "https://localhost:8080/"
        },
        "id": "SMWudYGRR4kP",
        "outputId": "fef48961-c092-4a32-9d2d-351fbf267d63"
      },
      "source": [
        "NetB_history , NetB_train , NetB_test = NetB(X_train , y_train, X_test, y_test , 50 , 0.02).train()"
      ],
      "execution_count": 135,
      "outputs": [
        {
          "output_type": "stream",
          "text": [
            "Epoch 1/50\n",
            "1407/1407 [==============================] - 65s 46ms/step - loss: 1.8409 - accuracy: 0.3445 - val_loss: 1.7827 - val_accuracy: 0.3600\n",
            "Epoch 2/50\n",
            "1407/1407 [==============================] - 65s 46ms/step - loss: 1.6618 - accuracy: 0.4176 - val_loss: 1.7090 - val_accuracy: 0.3924\n",
            "Epoch 3/50\n",
            "1407/1407 [==============================] - 64s 46ms/step - loss: 1.5864 - accuracy: 0.4454 - val_loss: 1.7105 - val_accuracy: 0.3786\n",
            "Epoch 4/50\n",
            "1407/1407 [==============================] - 68s 48ms/step - loss: 1.5317 - accuracy: 0.4649 - val_loss: 1.6887 - val_accuracy: 0.3932\n",
            "Epoch 5/50\n",
            "1407/1407 [==============================] - 71s 51ms/step - loss: 1.4899 - accuracy: 0.4820 - val_loss: 1.6038 - val_accuracy: 0.4376\n",
            "Epoch 6/50\n",
            "1407/1407 [==============================] - 68s 49ms/step - loss: 1.4521 - accuracy: 0.4934 - val_loss: 1.7013 - val_accuracy: 0.3844\n",
            "Epoch 7/50\n",
            "1407/1407 [==============================] - 66s 47ms/step - loss: 1.4183 - accuracy: 0.5060 - val_loss: 1.6583 - val_accuracy: 0.4190\n",
            "Epoch 8/50\n",
            "1407/1407 [==============================] - 66s 47ms/step - loss: 1.3919 - accuracy: 0.5155 - val_loss: 1.5056 - val_accuracy: 0.4582\n",
            "Epoch 9/50\n",
            "1407/1407 [==============================] - 66s 47ms/step - loss: 1.3641 - accuracy: 0.5266 - val_loss: 1.4786 - val_accuracy: 0.4714\n",
            "Epoch 10/50\n",
            "1407/1407 [==============================] - 70s 49ms/step - loss: 1.3395 - accuracy: 0.5338 - val_loss: 1.5195 - val_accuracy: 0.4556\n",
            "Epoch 11/50\n",
            "1407/1407 [==============================] - 70s 50ms/step - loss: 1.3161 - accuracy: 0.5446 - val_loss: 1.4928 - val_accuracy: 0.4670\n",
            "Epoch 12/50\n",
            "1407/1407 [==============================] - 68s 48ms/step - loss: 1.2927 - accuracy: 0.5510 - val_loss: 1.6941 - val_accuracy: 0.4094\n",
            "Epoch 13/50\n",
            "1407/1407 [==============================] - 69s 49ms/step - loss: 1.2707 - accuracy: 0.5583 - val_loss: 1.4938 - val_accuracy: 0.4722\n",
            "Epoch 14/50\n",
            "1407/1407 [==============================] - 71s 50ms/step - loss: 1.2516 - accuracy: 0.5652 - val_loss: 1.4425 - val_accuracy: 0.4908\n",
            "Epoch 15/50\n",
            "1407/1407 [==============================] - 71s 50ms/step - loss: 1.2310 - accuracy: 0.5732 - val_loss: 1.3872 - val_accuracy: 0.5108\n",
            "Epoch 16/50\n",
            "1407/1407 [==============================] - 67s 48ms/step - loss: 1.2120 - accuracy: 0.5813 - val_loss: 1.4811 - val_accuracy: 0.4812\n",
            "Epoch 17/50\n",
            "1407/1407 [==============================] - 69s 49ms/step - loss: 1.1967 - accuracy: 0.5852 - val_loss: 1.5827 - val_accuracy: 0.4706\n",
            "Epoch 18/50\n",
            "1407/1407 [==============================] - 72s 51ms/step - loss: 1.1790 - accuracy: 0.5929 - val_loss: 1.8914 - val_accuracy: 0.4180\n",
            "Epoch 19/50\n",
            "1407/1407 [==============================] - 70s 50ms/step - loss: 1.1617 - accuracy: 0.6009 - val_loss: 1.4113 - val_accuracy: 0.4928\n",
            "Epoch 20/50\n",
            "1407/1407 [==============================] - 70s 50ms/step - loss: 1.1460 - accuracy: 0.6035 - val_loss: 1.4480 - val_accuracy: 0.4892\n",
            "Epoch 21/50\n",
            "1407/1407 [==============================] - 67s 48ms/step - loss: 1.1274 - accuracy: 0.6090 - val_loss: 1.3592 - val_accuracy: 0.5144\n",
            "Epoch 22/50\n",
            "1407/1407 [==============================] - 63s 45ms/step - loss: 1.1107 - accuracy: 0.6162 - val_loss: 1.7125 - val_accuracy: 0.4226\n",
            "Epoch 23/50\n",
            "1407/1407 [==============================] - 66s 47ms/step - loss: 1.0931 - accuracy: 0.6253 - val_loss: 1.4688 - val_accuracy: 0.4954\n",
            "Epoch 24/50\n",
            "1407/1407 [==============================] - 64s 46ms/step - loss: 1.0773 - accuracy: 0.6299 - val_loss: 1.3949 - val_accuracy: 0.5122\n",
            "Epoch 25/50\n",
            "1407/1407 [==============================] - 66s 47ms/step - loss: 1.0618 - accuracy: 0.6349 - val_loss: 1.5975 - val_accuracy: 0.4510\n",
            "Epoch 26/50\n",
            "1407/1407 [==============================] - 64s 45ms/step - loss: 1.0487 - accuracy: 0.6392 - val_loss: 1.5056 - val_accuracy: 0.4800\n",
            "Epoch 27/50\n",
            "1407/1407 [==============================] - 64s 46ms/step - loss: 1.0296 - accuracy: 0.6441 - val_loss: 1.4572 - val_accuracy: 0.4978\n",
            "Epoch 28/50\n",
            "1407/1407 [==============================] - 64s 46ms/step - loss: 1.0164 - accuracy: 0.6496 - val_loss: 1.4315 - val_accuracy: 0.5104\n",
            "Epoch 29/50\n",
            "1407/1407 [==============================] - 66s 47ms/step - loss: 1.0013 - accuracy: 0.6541 - val_loss: 1.5447 - val_accuracy: 0.4628\n",
            "Epoch 30/50\n",
            "1407/1407 [==============================] - 67s 47ms/step - loss: 0.9857 - accuracy: 0.6630 - val_loss: 1.9561 - val_accuracy: 0.3762\n",
            "Epoch 31/50\n",
            "1407/1407 [==============================] - 65s 46ms/step - loss: 0.9718 - accuracy: 0.6680 - val_loss: 1.6523 - val_accuracy: 0.4512\n",
            "Epoch 32/50\n",
            "1407/1407 [==============================] - 66s 47ms/step - loss: 0.9573 - accuracy: 0.6745 - val_loss: 1.6010 - val_accuracy: 0.4652\n",
            "Epoch 33/50\n",
            "1407/1407 [==============================] - 64s 46ms/step - loss: 0.9417 - accuracy: 0.6808 - val_loss: 1.3828 - val_accuracy: 0.5394\n",
            "Epoch 34/50\n",
            "1407/1407 [==============================] - 66s 47ms/step - loss: 0.9281 - accuracy: 0.6823 - val_loss: 1.7461 - val_accuracy: 0.4296\n",
            "Epoch 35/50\n",
            "1407/1407 [==============================] - 66s 47ms/step - loss: 0.9112 - accuracy: 0.6900 - val_loss: 1.5814 - val_accuracy: 0.4684\n",
            "Epoch 36/50\n",
            "1407/1407 [==============================] - 65s 47ms/step - loss: 0.8981 - accuracy: 0.6956 - val_loss: 1.6098 - val_accuracy: 0.4676\n",
            "Epoch 37/50\n",
            "1407/1407 [==============================] - 65s 46ms/step - loss: 0.8825 - accuracy: 0.6997 - val_loss: 1.4166 - val_accuracy: 0.5262\n",
            "Epoch 38/50\n",
            "1407/1407 [==============================] - 66s 47ms/step - loss: 0.8723 - accuracy: 0.7024 - val_loss: 1.4231 - val_accuracy: 0.5168\n",
            "Epoch 39/50\n",
            "1407/1407 [==============================] - 63s 45ms/step - loss: 0.8583 - accuracy: 0.7102 - val_loss: 1.6029 - val_accuracy: 0.4840\n",
            "Epoch 40/50\n",
            "1407/1407 [==============================] - 65s 46ms/step - loss: 0.8409 - accuracy: 0.7148 - val_loss: 1.6387 - val_accuracy: 0.4712\n",
            "Epoch 41/50\n",
            "1407/1407 [==============================] - 66s 47ms/step - loss: 0.8284 - accuracy: 0.7192 - val_loss: 1.3944 - val_accuracy: 0.5292\n",
            "Epoch 42/50\n",
            "1407/1407 [==============================] - 66s 47ms/step - loss: 0.8123 - accuracy: 0.7267 - val_loss: 1.4505 - val_accuracy: 0.5208\n",
            "Epoch 43/50\n",
            "1407/1407 [==============================] - 66s 47ms/step - loss: 0.7996 - accuracy: 0.7314 - val_loss: 1.4417 - val_accuracy: 0.5394\n",
            "Epoch 44/50\n",
            "1407/1407 [==============================] - 64s 46ms/step - loss: 0.7864 - accuracy: 0.7361 - val_loss: 1.8295 - val_accuracy: 0.4412\n",
            "Epoch 45/50\n",
            "1407/1407 [==============================] - 67s 48ms/step - loss: 0.7750 - accuracy: 0.7400 - val_loss: 1.6879 - val_accuracy: 0.4718\n",
            "Epoch 46/50\n",
            "1407/1407 [==============================] - 65s 46ms/step - loss: 0.7581 - accuracy: 0.7442 - val_loss: 1.7271 - val_accuracy: 0.4738\n",
            "Epoch 47/50\n",
            "1407/1407 [==============================] - 65s 46ms/step - loss: 0.7448 - accuracy: 0.7522 - val_loss: 1.7728 - val_accuracy: 0.4456\n",
            "Epoch 48/50\n",
            "1407/1407 [==============================] - 65s 46ms/step - loss: 0.7330 - accuracy: 0.7544 - val_loss: 1.6177 - val_accuracy: 0.4916\n",
            "Epoch 49/50\n",
            "1407/1407 [==============================] - 64s 45ms/step - loss: 0.7157 - accuracy: 0.7622 - val_loss: 1.6648 - val_accuracy: 0.4798\n",
            "Epoch 50/50\n",
            "1407/1407 [==============================] - 62s 44ms/step - loss: 0.7067 - accuracy: 0.7656 - val_loss: 1.5161 - val_accuracy: 0.5022\n"
          ],
          "name": "stdout"
        }
      ]
    },
    {
      "cell_type": "code",
      "metadata": {
        "colab": {
          "base_uri": "https://localhost:8080/"
        },
        "id": "ES98gjbRUreQ",
        "outputId": "9155d313-c4d8-4b9c-e8c4-9f7fc9f0ebe5"
      },
      "source": [
        "NetB_test "
      ],
      "execution_count": 137,
      "outputs": [
        {
          "output_type": "execute_result",
          "data": {
            "text/plain": [
              "0.4918999969959259"
            ]
          },
          "metadata": {
            "tags": []
          },
          "execution_count": 137
        }
      ]
    },
    {
      "cell_type": "markdown",
      "metadata": {
        "id": "fy9rRd1io3KP"
      },
      "source": [
        "**Net C Class**"
      ]
    },
    {
      "cell_type": "code",
      "metadata": {
        "id": "lhE8mV5IR45S"
      },
      "source": [
        "class NetC:\n",
        "\n",
        "  def __init__(self , X_train , y_train, X_test, y_test , num_epochs , learn_rate ):\n",
        "    self.X_train = X_train\n",
        "    self.y_train = y_train\n",
        "    self.X_test = X_test\n",
        "    self.y_test = y_test\n",
        "    self.num_epochs = num_epochs\n",
        "    self.learn_rate = learn_rate\n",
        "\n",
        "  def train(self):\n",
        "    \n",
        "    cnn = models.Sequential([\n",
        "     layers.Conv2D(filters=32, kernel_size=(5, 5), activation='relu', input_shape=(32, 32, 3)),\n",
        "     layers.MaxPooling2D(pool_size=(2, 2), strides=(2, 2)),\n",
        "    \n",
        "     layers.Flatten(),\n",
        "     layers.Dense(10, activation='softmax')\n",
        "   ])\n",
        "\n",
        "    tf.keras.optimizers.Adam(\n",
        "     learning_rate= self.learn_rate, name='SGD')\n",
        "\n",
        "    cnn.compile(optimizer='adam',\n",
        "              loss='sparse_categorical_crossentropy',\n",
        "              metrics=['accuracy'])\n",
        "\n",
        "   \n",
        "    history = cnn.fit(X_train, y_train, epochs=self.num_epochs, verbose=True)\n",
        "    train_loss, train_acc = cnn.evaluate(X_train, y_train, verbose=0)\n",
        "    test_loss, test_acc = cnn.evaluate(X_test, y_test, verbose=0)\n",
        "\n",
        "    return  (history , train_acc, test_acc)"
      ],
      "execution_count": 143,
      "outputs": []
    },
    {
      "cell_type": "code",
      "metadata": {
        "colab": {
          "base_uri": "https://localhost:8080/"
        },
        "id": "5ADWNIVXScPC",
        "outputId": "3bd00456-c284-4168-875c-3924e31374ca"
      },
      "source": [
        "NetC_history , NetC_train , NetC_test  = NetC(X_train , y_train, X_test, y_test , 50 , 0.02).train()"
      ],
      "execution_count": 144,
      "outputs": [
        {
          "output_type": "stream",
          "text": [
            "Epoch 1/50\n",
            "1563/1563 [==============================] - 43s 27ms/step - loss: 1.5004 - accuracy: 0.4704\n",
            "Epoch 2/50\n",
            "1563/1563 [==============================] - 43s 27ms/step - loss: 1.2357 - accuracy: 0.5716\n",
            "Epoch 3/50\n",
            "1563/1563 [==============================] - 42s 27ms/step - loss: 1.1259 - accuracy: 0.6101\n",
            "Epoch 4/50\n",
            "1563/1563 [==============================] - 42s 27ms/step - loss: 1.0507 - accuracy: 0.6388\n",
            "Epoch 5/50\n",
            "1563/1563 [==============================] - 43s 27ms/step - loss: 1.0036 - accuracy: 0.6538\n",
            "Epoch 6/50\n",
            "1563/1563 [==============================] - 42s 27ms/step - loss: 0.9633 - accuracy: 0.6673\n",
            "Epoch 7/50\n",
            "1563/1563 [==============================] - 42s 27ms/step - loss: 0.9266 - accuracy: 0.6801\n",
            "Epoch 8/50\n",
            "1563/1563 [==============================] - 43s 28ms/step - loss: 0.8984 - accuracy: 0.6915\n",
            "Epoch 9/50\n",
            "1563/1563 [==============================] - 46s 30ms/step - loss: 0.8676 - accuracy: 0.6991\n",
            "Epoch 10/50\n",
            "1563/1563 [==============================] - 46s 29ms/step - loss: 0.8451 - accuracy: 0.7093\n",
            "Epoch 11/50\n",
            "1563/1563 [==============================] - 43s 28ms/step - loss: 0.8188 - accuracy: 0.7183\n",
            "Epoch 12/50\n",
            "1563/1563 [==============================] - 43s 28ms/step - loss: 0.7959 - accuracy: 0.7245\n",
            "Epoch 13/50\n",
            "1563/1563 [==============================] - 43s 27ms/step - loss: 0.7755 - accuracy: 0.7317\n",
            "Epoch 14/50\n",
            "1563/1563 [==============================] - 42s 27ms/step - loss: 0.7582 - accuracy: 0.7372\n",
            "Epoch 15/50\n",
            "1563/1563 [==============================] - 43s 28ms/step - loss: 0.7424 - accuracy: 0.7424\n",
            "Epoch 16/50\n",
            "1563/1563 [==============================] - 46s 29ms/step - loss: 0.7257 - accuracy: 0.7493\n",
            "Epoch 17/50\n",
            "1563/1563 [==============================] - 44s 28ms/step - loss: 0.7104 - accuracy: 0.7538\n",
            "Epoch 18/50\n",
            "1563/1563 [==============================] - 43s 28ms/step - loss: 0.6969 - accuracy: 0.7584\n",
            "Epoch 19/50\n",
            "1563/1563 [==============================] - 43s 28ms/step - loss: 0.6819 - accuracy: 0.7616\n",
            "Epoch 20/50\n",
            "1563/1563 [==============================] - 43s 27ms/step - loss: 0.6688 - accuracy: 0.7678\n",
            "Epoch 21/50\n",
            "1563/1563 [==============================] - 43s 27ms/step - loss: 0.6615 - accuracy: 0.7710\n",
            "Epoch 22/50\n",
            "1563/1563 [==============================] - 43s 27ms/step - loss: 0.6465 - accuracy: 0.7749\n",
            "Epoch 23/50\n",
            "1563/1563 [==============================] - 42s 27ms/step - loss: 0.6369 - accuracy: 0.7796\n",
            "Epoch 24/50\n",
            "1563/1563 [==============================] - 44s 28ms/step - loss: 0.6274 - accuracy: 0.7823\n",
            "Epoch 25/50\n",
            "1563/1563 [==============================] - 44s 28ms/step - loss: 0.6186 - accuracy: 0.7820\n",
            "Epoch 26/50\n",
            "1563/1563 [==============================] - 44s 28ms/step - loss: 0.6055 - accuracy: 0.7894\n",
            "Epoch 27/50\n",
            "1563/1563 [==============================] - 43s 28ms/step - loss: 0.5972 - accuracy: 0.7912\n",
            "Epoch 28/50\n",
            "1563/1563 [==============================] - 43s 28ms/step - loss: 0.5883 - accuracy: 0.7930\n",
            "Epoch 29/50\n",
            "1563/1563 [==============================] - 42s 27ms/step - loss: 0.5859 - accuracy: 0.7955\n",
            "Epoch 30/50\n",
            "1563/1563 [==============================] - 44s 28ms/step - loss: 0.5713 - accuracy: 0.8007\n",
            "Epoch 31/50\n",
            "1563/1563 [==============================] - 44s 28ms/step - loss: 0.5681 - accuracy: 0.8016\n",
            "Epoch 32/50\n",
            "1563/1563 [==============================] - 43s 28ms/step - loss: 0.5553 - accuracy: 0.8051\n",
            "Epoch 33/50\n",
            "1563/1563 [==============================] - 44s 28ms/step - loss: 0.5497 - accuracy: 0.8086\n",
            "Epoch 34/50\n",
            "1563/1563 [==============================] - 44s 28ms/step - loss: 0.5448 - accuracy: 0.8088\n",
            "Epoch 35/50\n",
            "1563/1563 [==============================] - 45s 28ms/step - loss: 0.5363 - accuracy: 0.8116\n",
            "Epoch 36/50\n",
            "1563/1563 [==============================] - 44s 28ms/step - loss: 0.5340 - accuracy: 0.8129\n",
            "Epoch 37/50\n",
            "1563/1563 [==============================] - 43s 28ms/step - loss: 0.5250 - accuracy: 0.8163\n",
            "Epoch 38/50\n",
            "1563/1563 [==============================] - 44s 28ms/step - loss: 0.5137 - accuracy: 0.8194\n",
            "Epoch 39/50\n",
            "1563/1563 [==============================] - 44s 28ms/step - loss: 0.5149 - accuracy: 0.8186\n",
            "Epoch 40/50\n",
            "1563/1563 [==============================] - 44s 28ms/step - loss: 0.5037 - accuracy: 0.8242\n",
            "Epoch 41/50\n",
            "1563/1563 [==============================] - 43s 28ms/step - loss: 0.5013 - accuracy: 0.8228\n",
            "Epoch 42/50\n",
            "1563/1563 [==============================] - 45s 29ms/step - loss: 0.4958 - accuracy: 0.8244\n",
            "Epoch 43/50\n",
            "1563/1563 [==============================] - 50s 32ms/step - loss: 0.4903 - accuracy: 0.8289\n",
            "Epoch 44/50\n",
            "1563/1563 [==============================] - 51s 33ms/step - loss: 0.4881 - accuracy: 0.8288\n",
            "Epoch 45/50\n",
            "1563/1563 [==============================] - 48s 30ms/step - loss: 0.4768 - accuracy: 0.8313\n",
            "Epoch 46/50\n",
            "1563/1563 [==============================] - 47s 30ms/step - loss: 0.4731 - accuracy: 0.8342\n",
            "Epoch 47/50\n",
            "1563/1563 [==============================] - 46s 29ms/step - loss: 0.4723 - accuracy: 0.8341\n",
            "Epoch 48/50\n",
            "1563/1563 [==============================] - 45s 29ms/step - loss: 0.4643 - accuracy: 0.8361\n",
            "Epoch 49/50\n",
            "1563/1563 [==============================] - 43s 28ms/step - loss: 0.4609 - accuracy: 0.8375\n",
            "Epoch 50/50\n",
            "1563/1563 [==============================] - 43s 28ms/step - loss: 0.4533 - accuracy: 0.8418\n"
          ],
          "name": "stdout"
        }
      ]
    },
    {
      "cell_type": "markdown",
      "metadata": {
        "id": "MJYIcmNGo8dp"
      },
      "source": [
        "**Train and Test Accuracy of Models**"
      ]
    },
    {
      "cell_type": "code",
      "metadata": {
        "colab": {
          "base_uri": "https://localhost:8080/",
          "height": 428
        },
        "id": "i0816-sMWhlC",
        "outputId": "30607310-6fb9-4b89-d264-29318764c30a"
      },
      "source": [
        "plt.figure(figsize=[8,6])\n",
        "plt.plot(NetA_history.history['accuracy'],'r',linewidth=3.0)\n",
        "plt.plot(NetB_history.history['accuracy'],'g',linewidth=3.0)\n",
        "plt.plot(NetC_history.history['accuracy'],'b',linewidth=3.0)\n",
        "\n",
        "plt.legend(['Net A Accuracy', 'Net B Accuracy', 'Net C Accuracy'],fontsize=18)\n",
        "plt.xlabel('Epochs ',fontsize=16)\n",
        "plt.ylabel('Accuracy',fontsize=16)\n",
        "plt.title('Accuracy Curves',fontsize=16)"
      ],
      "execution_count": 145,
      "outputs": [
        {
          "output_type": "execute_result",
          "data": {
            "text/plain": [
              "Text(0.5, 1.0, 'Accuracy Curves')"
            ]
          },
          "metadata": {
            "tags": []
          },
          "execution_count": 145
        },
        {
          "output_type": "display_data",
          "data": {
            "image/png": "[encoded data removed]",
            "text/plain": [
              "<Figure size 576x432 with 1 Axes>"
            ]
          },
          "metadata": {
            "tags": [],
            "needs_background": "light"
          }
        }
      ]
    },
    {
      "cell_type": "code",
      "metadata": {
        "colab": {
          "base_uri": "https://localhost:8080/"
        },
        "id": "vwsL8J87YZlZ",
        "outputId": "0bb75ae9-25e3-473c-d3f6-b82be352f3c5"
      },
      "source": [
        "df = pd.DataFrame({'Train Accuracy': [float(NetA_train) , float(NetB_train), float(NetC_train)],\n",
        "        'Test Accuracy': [float(NetA_test),float(NetB_test),float(NetC_test)]} , index =['Net_A', 'Net_B' , 'Net_C'])\n",
        "\n",
        "print(df)"
      ],
      "execution_count": 146,
      "outputs": [
        {
          "output_type": "stream",
          "text": [
            "       Train Accuracy  Test Accuracy\n",
            "Net_A         0.37994         0.3423\n",
            "Net_B         0.68440         0.4919\n",
            "Net_C         0.84768         0.5889\n"
          ],
          "name": "stdout"
        }
      ]
    }
  ]
}